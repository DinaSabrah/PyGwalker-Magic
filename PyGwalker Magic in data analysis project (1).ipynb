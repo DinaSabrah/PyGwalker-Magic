{
 "cells": [
  {
   "cell_type": "code",
   "execution_count": 1,
   "id": "3addb0dc",
   "metadata": {},
   "outputs": [],
   "source": [
    "# import pandas for tabluar data\n",
    "import pandas as pd\n",
    "\n",
    "# import pygwalker; alternative for tableau in python\n",
    "import pygwalker as pyg"
   ]
  },
  {
   "cell_type": "code",
   "execution_count": 2,
   "id": "4782cb7a",
   "metadata": {},
   "outputs": [
    {
     "data": {
      "text/html": [
       "<div>\n",
       "<style scoped>\n",
       "    .dataframe tbody tr th:only-of-type {\n",
       "        vertical-align: middle;\n",
       "    }\n",
       "\n",
       "    .dataframe tbody tr th {\n",
       "        vertical-align: top;\n",
       "    }\n",
       "\n",
       "    .dataframe thead th {\n",
       "        text-align: right;\n",
       "    }\n",
       "</style>\n",
       "<table border=\"1\" class=\"dataframe\">\n",
       "  <thead>\n",
       "    <tr style=\"text-align: right;\">\n",
       "      <th></th>\n",
       "      <th>id</th>\n",
       "      <th>manufacturer</th>\n",
       "      <th>company_location</th>\n",
       "      <th>year_reviewed</th>\n",
       "      <th>bean_origin</th>\n",
       "      <th>bar_name</th>\n",
       "      <th>cocoa_percent</th>\n",
       "      <th>num_ingredients</th>\n",
       "      <th>ingredients</th>\n",
       "      <th>review</th>\n",
       "      <th>rating</th>\n",
       "    </tr>\n",
       "  </thead>\n",
       "  <tbody>\n",
       "    <tr>\n",
       "      <th>0</th>\n",
       "      <td>2454</td>\n",
       "      <td>5150</td>\n",
       "      <td>U.S.A.</td>\n",
       "      <td>2019</td>\n",
       "      <td>Tanzania</td>\n",
       "      <td>Kokoa Kamili, batch 1</td>\n",
       "      <td>76.0</td>\n",
       "      <td>3.0</td>\n",
       "      <td>B,S,C</td>\n",
       "      <td>rich cocoa, fatty, bready</td>\n",
       "      <td>3.25</td>\n",
       "    </tr>\n",
       "    <tr>\n",
       "      <th>1</th>\n",
       "      <td>2458</td>\n",
       "      <td>5150</td>\n",
       "      <td>U.S.A.</td>\n",
       "      <td>2019</td>\n",
       "      <td>Dominican Republic</td>\n",
       "      <td>Zorzal, batch 1</td>\n",
       "      <td>76.0</td>\n",
       "      <td>3.0</td>\n",
       "      <td>B,S,C</td>\n",
       "      <td>cocoa, vegetal, savory</td>\n",
       "      <td>3.50</td>\n",
       "    </tr>\n",
       "    <tr>\n",
       "      <th>2</th>\n",
       "      <td>2454</td>\n",
       "      <td>5150</td>\n",
       "      <td>U.S.A.</td>\n",
       "      <td>2019</td>\n",
       "      <td>Madagascar</td>\n",
       "      <td>Bejofo Estate, batch 1</td>\n",
       "      <td>76.0</td>\n",
       "      <td>3.0</td>\n",
       "      <td>B,S,C</td>\n",
       "      <td>cocoa, blackberry, full body</td>\n",
       "      <td>3.75</td>\n",
       "    </tr>\n",
       "    <tr>\n",
       "      <th>3</th>\n",
       "      <td>2542</td>\n",
       "      <td>5150</td>\n",
       "      <td>U.S.A.</td>\n",
       "      <td>2021</td>\n",
       "      <td>Fiji</td>\n",
       "      <td>Matasawalevu, batch 1</td>\n",
       "      <td>68.0</td>\n",
       "      <td>3.0</td>\n",
       "      <td>B,S,C</td>\n",
       "      <td>chewy, off, rubbery</td>\n",
       "      <td>3.00</td>\n",
       "    </tr>\n",
       "    <tr>\n",
       "      <th>4</th>\n",
       "      <td>2546</td>\n",
       "      <td>5150</td>\n",
       "      <td>U.S.A.</td>\n",
       "      <td>2021</td>\n",
       "      <td>Venezuela</td>\n",
       "      <td>Sur del Lago, batch 1</td>\n",
       "      <td>72.0</td>\n",
       "      <td>3.0</td>\n",
       "      <td>B,S,C</td>\n",
       "      <td>fatty, earthy, moss, nutty,chalky</td>\n",
       "      <td>3.00</td>\n",
       "    </tr>\n",
       "  </tbody>\n",
       "</table>\n",
       "</div>"
      ],
      "text/plain": [
       "     id manufacturer company_location  year_reviewed         bean_origin  \\\n",
       "0  2454         5150           U.S.A.           2019            Tanzania   \n",
       "1  2458         5150           U.S.A.           2019  Dominican Republic   \n",
       "2  2454         5150           U.S.A.           2019          Madagascar   \n",
       "3  2542         5150           U.S.A.           2021                Fiji   \n",
       "4  2546         5150           U.S.A.           2021           Venezuela   \n",
       "\n",
       "                 bar_name  cocoa_percent  num_ingredients ingredients  \\\n",
       "0   Kokoa Kamili, batch 1           76.0              3.0       B,S,C   \n",
       "1         Zorzal, batch 1           76.0              3.0       B,S,C   \n",
       "2  Bejofo Estate, batch 1           76.0              3.0       B,S,C   \n",
       "3   Matasawalevu, batch 1           68.0              3.0       B,S,C   \n",
       "4   Sur del Lago, batch 1           72.0              3.0       B,S,C   \n",
       "\n",
       "                              review  rating  \n",
       "0          rich cocoa, fatty, bready    3.25  \n",
       "1             cocoa, vegetal, savory    3.50  \n",
       "2       cocoa, blackberry, full body    3.75  \n",
       "3                chewy, off, rubbery    3.00  \n",
       "4  fatty, earthy, moss, nutty,chalky    3.00  "
      ]
     },
     "execution_count": 2,
     "metadata": {},
     "output_type": "execute_result"
    }
   ],
   "source": [
    "# read csv file as df\n",
    "df = pd.read_csv('chocolate_bars.csv')\n",
    "# show first few rows\n",
    "df.head()"
   ]
  },
  {
   "cell_type": "code",
   "execution_count": 3,
   "id": "90c6e48d",
   "metadata": {},
   "outputs": [
    {
     "data": {
      "text/html": [],
      "text/plain": [
       "<IPython.core.display.HTML object>"
      ]
     },
     "metadata": {},
     "output_type": "display_data"
    },
    {
     "data": {
      "application/vnd.jupyter.widget-view+json": {
       "model_id": "69ca0586841c485fa60dfa334f48a36a",
       "version_major": 2,
       "version_minor": 0
      },
      "text/plain": [
       "Box(children=(HTML(value='<div id=\"ifr-pyg-0\" style=\"height: auto\">\\n    <head>\\n        <meta http-equiv=\"Con…"
      ]
     },
     "metadata": {},
     "output_type": "display_data"
    },
    {
     "data": {
      "text/html": [
       "<html>\n",
       "<style>\n",
       ".tabs{\n",
       "    position:relative;\n",
       "    height:660px;\n",
       "}\n",
       ".tab-pane{\n",
       "    display:inline-block;\n",
       "}\n",
       ".tabs input[type='radio']{\n",
       "    position:absolute;\n",
       "    clip:rect(0,0,0,0)\n",
       "}\n",
       ".tab-item{\n",
       "    display:block;\n",
       "    height:34px;\n",
       "    line-height:34px;\n",
       "    cursor:pointer;\n",
       "    padding:0 10px\n",
       "}\n",
       "\n",
       ".tabs input[type='radio']:checked+.tab-item{\n",
       "    background:#2563eb;\n",
       "    color:#fff\n",
       "}\n",
       "\n",
       ".tab-content{\n",
       "    display: none;\n",
       "    position:absolute;\n",
       "    left:0;\n",
       "    top:56px;\n",
       "    bottom:0;\n",
       "    right:0;\n",
       "}\n",
       "\n",
       ".tabs input[type='radio']:checked+.tab-item+.tab-content{\n",
       "    display: block;\n",
       "}\n",
       "</style>\n",
       "\n",
       "<body>\n",
       "    <div id=\"pygwalker-preview-0\">\n",
       "        <div class=\"tabs\">\n",
       "            \n",
       "        </div>\n",
       "    </div>\n",
       "</body>\n",
       "</html>"
      ],
      "text/plain": [
       "<IPython.core.display.HTML object>"
      ]
     },
     "metadata": {},
     "output_type": "display_data"
    },
    {
     "data": {
      "text/plain": [
       "<pygwalker.api.pygwalker.PygWalker at 0x2594ee14a00>"
      ]
     },
     "execution_count": 3,
     "metadata": {},
     "output_type": "execute_result"
    }
   ],
   "source": [
    "# show pygwalker, set in light mode , discover data & create diff charts as in Tableau\n",
    "pyg.walk(df, dark = 'light')\n",
    "# easily create chart > export code > copy to clipboard > paste in a cell > run"
   ]
  },
  {
   "cell_type": "code",
   "execution_count": 4,
   "id": "9ce663f5",
   "metadata": {},
   "outputs": [
    {
     "data": {
      "text/html": [],
      "text/plain": [
       "<IPython.core.display.HTML object>"
      ]
     },
     "metadata": {},
     "output_type": "display_data"
    },
    {
     "data": {
      "application/vnd.jupyter.widget-view+json": {
       "model_id": "76d7a7c164624d559280fa8e10e22982",
       "version_major": 2,
       "version_minor": 0
      },
      "text/plain": [
       "Box(children=(HTML(value='<div id=\"ifr-pyg-1\" style=\"height: auto\">\\n    <head>\\n        <meta http-equiv=\"Con…"
      ]
     },
     "metadata": {},
     "output_type": "display_data"
    },
    {
     "data": {
      "text/html": [
       "<html>\n",
       "<style>\n",
       ".tabs{\n",
       "    position:relative;\n",
       "    height:660px;\n",
       "}\n",
       ".tab-pane{\n",
       "    display:inline-block;\n",
       "}\n",
       ".tabs input[type='radio']{\n",
       "    position:absolute;\n",
       "    clip:rect(0,0,0,0)\n",
       "}\n",
       ".tab-item{\n",
       "    display:block;\n",
       "    height:34px;\n",
       "    line-height:34px;\n",
       "    cursor:pointer;\n",
       "    padding:0 10px\n",
       "}\n",
       "\n",
       ".tabs input[type='radio']:checked+.tab-item{\n",
       "    background:#2563eb;\n",
       "    color:#fff\n",
       "}\n",
       "\n",
       ".tab-content{\n",
       "    display: none;\n",
       "    position:absolute;\n",
       "    left:0;\n",
       "    top:56px;\n",
       "    bottom:0;\n",
       "    right:0;\n",
       "}\n",
       "\n",
       ".tabs input[type='radio']:checked+.tab-item+.tab-content{\n",
       "    display: block;\n",
       "}\n",
       "</style>\n",
       "\n",
       "<body>\n",
       "    <div id=\"pygwalker-preview-1\">\n",
       "        <div class=\"tabs\">\n",
       "            \n",
       "        </div>\n",
       "    </div>\n",
       "</body>\n",
       "</html>"
      ],
      "text/plain": [
       "<IPython.core.display.HTML object>"
      ]
     },
     "metadata": {},
     "output_type": "display_data"
    },
    {
     "data": {
      "text/plain": [
       "<pygwalker.api.pygwalker.PygWalker at 0x2594ee140d0>"
      ]
     },
     "execution_count": 4,
     "metadata": {},
     "output_type": "execute_result"
    }
   ],
   "source": [
    "vis_spec = \"\"\"[{\"visId\":\"gw_4ukh\",\"name\":\"Chart 1\",\"encodings\":{\"dimensions\":[{\"dragId\":\"gw_9RLj\",\"fid\":\"bWFudWZhY3R1cmVyXzI=\",\"name\":\"manufacturer\",\"semanticType\":\"nominal\",\"analyticType\":\"dimension\"},{\"dragId\":\"gw_cd1y\",\"fid\":\"Y29tcGFueV9sb2NhdGlvbl8z\",\"name\":\"company_location\",\"semanticType\":\"nominal\",\"analyticType\":\"dimension\"},{\"dragId\":\"gw_lJZ3\",\"fid\":\"eWVhcl9yZXZpZXdlZF80\",\"name\":\"year_reviewed\",\"semanticType\":\"ordinal\",\"analyticType\":\"dimension\"},{\"dragId\":\"gw_P-WD\",\"fid\":\"YmVhbl9vcmlnaW5fNQ==\",\"name\":\"bean_origin\",\"semanticType\":\"nominal\",\"analyticType\":\"dimension\"},{\"dragId\":\"gw_keYn\",\"fid\":\"YmFyX25hbWVfNg==\",\"name\":\"bar_name\",\"semanticType\":\"nominal\",\"analyticType\":\"dimension\"},{\"dragId\":\"gw_IYDk\",\"fid\":\"aW5ncmVkaWVudHNfOQ==\",\"name\":\"ingredients\",\"semanticType\":\"nominal\",\"analyticType\":\"dimension\"},{\"dragId\":\"gw_2514\",\"fid\":\"cmV2aWV3XzEw\",\"name\":\"review\",\"semanticType\":\"nominal\",\"analyticType\":\"dimension\"}],\"measures\":[{\"dragId\":\"gw_ZTqJ\",\"fid\":\"aW5kZXhfMA==\",\"name\":\"index\",\"analyticType\":\"measure\",\"semanticType\":\"quantitative\",\"aggName\":\"sum\"},{\"dragId\":\"gw_N1XL\",\"fid\":\"aWRfMQ==\",\"name\":\"id\",\"analyticType\":\"measure\",\"semanticType\":\"quantitative\",\"aggName\":\"sum\"},{\"dragId\":\"gw_cxui\",\"fid\":\"Y29jb2FfcGVyY2VudF83\",\"name\":\"cocoa_percent\",\"analyticType\":\"measure\",\"semanticType\":\"quantitative\",\"aggName\":\"sum\"},{\"dragId\":\"gw_w5mS\",\"fid\":\"bnVtX2luZ3JlZGllbnRzXzg=\",\"name\":\"num_ingredients\",\"analyticType\":\"measure\",\"semanticType\":\"ordinal\",\"aggName\":\"sum\"},{\"dragId\":\"gw_bplu\",\"fid\":\"cmF0aW5nXzEx\",\"name\":\"rating\",\"analyticType\":\"measure\",\"semanticType\":\"ordinal\",\"aggName\":\"sum\"},{\"dragId\":\"gw_count_fid\",\"fid\":\"gw_count_fid\",\"name\":\"Row count\",\"analyticType\":\"measure\",\"semanticType\":\"quantitative\",\"aggName\":\"sum\",\"computed\":true,\"expression\":{\"op\":\"one\",\"params\":[],\"as\":\"gw_count_fid\"}}],\"rows\":[{\"dragId\":\"gw_rlJ4\",\"fid\":\"cmF0aW5nXzEx\",\"name\":\"rating\",\"analyticType\":\"measure\",\"semanticType\":\"ordinal\",\"aggName\":\"sum\"}],\"columns\":[{\"dragId\":\"gw_jRz0\",\"fid\":\"bWFudWZhY3R1cmVyXzI=\",\"name\":\"manufacturer\",\"semanticType\":\"nominal\",\"analyticType\":\"dimension\",\"sort\":\"descending\"}],\"color\":[],\"opacity\":[],\"size\":[],\"shape\":[],\"radius\":[],\"theta\":[],\"details\":[],\"filters\":[],\"text\":[]},\"config\":{\"defaultAggregated\":true,\"geoms\":[\"auto\"],\"stack\":\"stack\",\"showActions\":false,\"interactiveScale\":false,\"sorted\":\"none\",\"zeroScale\":true,\"size\":{\"mode\":\"auto\",\"width\":320,\"height\":200},\"format\":{}}}]\"\"\"\n",
    "pyg.walk(df, spec=vis_spec, dark='light')\n"
   ]
  },
  {
   "cell_type": "markdown",
   "id": "1f59ed57",
   "metadata": {},
   "source": [
    "From the 1st chart it's obvious that top 3 manufacturers in cocoa are Pralus, Ocleot & Zokoao"
   ]
  },
  {
   "cell_type": "code",
   "execution_count": 5,
   "id": "b2969fd2",
   "metadata": {},
   "outputs": [
    {
     "data": {
      "text/html": [],
      "text/plain": [
       "<IPython.core.display.HTML object>"
      ]
     },
     "metadata": {},
     "output_type": "display_data"
    },
    {
     "data": {
      "application/vnd.jupyter.widget-view+json": {
       "model_id": "26498e743a76452284e7c075bcd0acc6",
       "version_major": 2,
       "version_minor": 0
      },
      "text/plain": [
       "Box(children=(HTML(value='<div id=\"ifr-pyg-2\" style=\"height: auto\">\\n    <head>\\n        <meta http-equiv=\"Con…"
      ]
     },
     "metadata": {},
     "output_type": "display_data"
    },
    {
     "data": {
      "text/html": [
       "<html>\n",
       "<style>\n",
       ".tabs{\n",
       "    position:relative;\n",
       "    height:660px;\n",
       "}\n",
       ".tab-pane{\n",
       "    display:inline-block;\n",
       "}\n",
       ".tabs input[type='radio']{\n",
       "    position:absolute;\n",
       "    clip:rect(0,0,0,0)\n",
       "}\n",
       ".tab-item{\n",
       "    display:block;\n",
       "    height:34px;\n",
       "    line-height:34px;\n",
       "    cursor:pointer;\n",
       "    padding:0 10px\n",
       "}\n",
       "\n",
       ".tabs input[type='radio']:checked+.tab-item{\n",
       "    background:#2563eb;\n",
       "    color:#fff\n",
       "}\n",
       "\n",
       ".tab-content{\n",
       "    display: none;\n",
       "    position:absolute;\n",
       "    left:0;\n",
       "    top:56px;\n",
       "    bottom:0;\n",
       "    right:0;\n",
       "}\n",
       "\n",
       ".tabs input[type='radio']:checked+.tab-item+.tab-content{\n",
       "    display: block;\n",
       "}\n",
       "</style>\n",
       "\n",
       "<body>\n",
       "    <div id=\"pygwalker-preview-2\">\n",
       "        <div class=\"tabs\">\n",
       "            \n",
       "        </div>\n",
       "    </div>\n",
       "</body>\n",
       "</html>"
      ],
      "text/plain": [
       "<IPython.core.display.HTML object>"
      ]
     },
     "metadata": {},
     "output_type": "display_data"
    },
    {
     "data": {
      "text/plain": [
       "<pygwalker.api.pygwalker.PygWalker at 0x2594dbaed30>"
      ]
     },
     "execution_count": 5,
     "metadata": {},
     "output_type": "execute_result"
    }
   ],
   "source": [
    "vis_spec = \"\"\"[{\"visId\":\"gw_4ukh\",\"name\":\"Chart 1\",\"encodings\":{\"dimensions\":[{\"dragId\":\"gw_9RLj\",\"fid\":\"bWFudWZhY3R1cmVyXzI=\",\"name\":\"manufacturer\",\"semanticType\":\"nominal\",\"analyticType\":\"dimension\"},{\"dragId\":\"gw_cd1y\",\"fid\":\"Y29tcGFueV9sb2NhdGlvbl8z\",\"name\":\"company_location\",\"semanticType\":\"nominal\",\"analyticType\":\"dimension\"},{\"dragId\":\"gw_lJZ3\",\"fid\":\"eWVhcl9yZXZpZXdlZF80\",\"name\":\"year_reviewed\",\"semanticType\":\"ordinal\",\"analyticType\":\"dimension\"},{\"dragId\":\"gw_P-WD\",\"fid\":\"YmVhbl9vcmlnaW5fNQ==\",\"name\":\"bean_origin\",\"semanticType\":\"nominal\",\"analyticType\":\"dimension\"},{\"dragId\":\"gw_keYn\",\"fid\":\"YmFyX25hbWVfNg==\",\"name\":\"bar_name\",\"semanticType\":\"nominal\",\"analyticType\":\"dimension\"},{\"dragId\":\"gw_IYDk\",\"fid\":\"aW5ncmVkaWVudHNfOQ==\",\"name\":\"ingredients\",\"semanticType\":\"nominal\",\"analyticType\":\"dimension\"},{\"dragId\":\"gw_2514\",\"fid\":\"cmV2aWV3XzEw\",\"name\":\"review\",\"semanticType\":\"nominal\",\"analyticType\":\"dimension\"}],\"measures\":[{\"dragId\":\"gw_ZTqJ\",\"fid\":\"aW5kZXhfMA==\",\"name\":\"index\",\"analyticType\":\"measure\",\"semanticType\":\"quantitative\",\"aggName\":\"sum\"},{\"dragId\":\"gw_N1XL\",\"fid\":\"aWRfMQ==\",\"name\":\"id\",\"analyticType\":\"measure\",\"semanticType\":\"quantitative\",\"aggName\":\"sum\"},{\"dragId\":\"gw_cxui\",\"fid\":\"Y29jb2FfcGVyY2VudF83\",\"name\":\"cocoa_percent\",\"analyticType\":\"measure\",\"semanticType\":\"quantitative\",\"aggName\":\"sum\"},{\"dragId\":\"gw_w5mS\",\"fid\":\"bnVtX2luZ3JlZGllbnRzXzg=\",\"name\":\"num_ingredients\",\"analyticType\":\"measure\",\"semanticType\":\"ordinal\",\"aggName\":\"sum\"},{\"dragId\":\"gw_bplu\",\"fid\":\"cmF0aW5nXzEx\",\"name\":\"rating\",\"analyticType\":\"measure\",\"semanticType\":\"ordinal\",\"aggName\":\"sum\"},{\"dragId\":\"gw_count_fid\",\"fid\":\"gw_count_fid\",\"name\":\"Row count\",\"analyticType\":\"measure\",\"semanticType\":\"quantitative\",\"aggName\":\"sum\",\"computed\":true,\"expression\":{\"op\":\"one\",\"params\":[],\"as\":\"gw_count_fid\"}}],\"rows\":[{\"dragId\":\"gw_rlJ4\",\"fid\":\"cmF0aW5nXzEx\",\"name\":\"rating\",\"analyticType\":\"measure\",\"semanticType\":\"ordinal\",\"aggName\":\"sum\"}],\"columns\":[{\"dragId\":\"gw_jRz0\",\"fid\":\"bWFudWZhY3R1cmVyXzI=\",\"name\":\"manufacturer\",\"semanticType\":\"nominal\",\"analyticType\":\"dimension\",\"sort\":\"descending\"}],\"color\":[],\"opacity\":[],\"size\":[],\"shape\":[],\"radius\":[],\"theta\":[],\"details\":[],\"filters\":[],\"text\":[]},\"config\":{\"defaultAggregated\":true,\"geoms\":[\"auto\"],\"stack\":\"stack\",\"showActions\":false,\"interactiveScale\":false,\"sorted\":\"none\",\"zeroScale\":true,\"size\":{\"mode\":\"auto\",\"width\":320,\"height\":200},\"format\":{}}},{\"visId\":\"gw_57Nd\",\"name\":\"Chart 2\",\"encodings\":{\"dimensions\":[{\"dragId\":\"gw_nt_8\",\"fid\":\"bWFudWZhY3R1cmVyXzI=\",\"name\":\"manufacturer\",\"semanticType\":\"nominal\",\"analyticType\":\"dimension\"},{\"dragId\":\"gw_Kna-\",\"fid\":\"Y29tcGFueV9sb2NhdGlvbl8z\",\"name\":\"company_location\",\"semanticType\":\"nominal\",\"analyticType\":\"dimension\"},{\"dragId\":\"gw_22Pf\",\"fid\":\"eWVhcl9yZXZpZXdlZF80\",\"name\":\"year_reviewed\",\"semanticType\":\"ordinal\",\"analyticType\":\"dimension\"},{\"dragId\":\"gw_0DvG\",\"fid\":\"YmVhbl9vcmlnaW5fNQ==\",\"name\":\"bean_origin\",\"semanticType\":\"nominal\",\"analyticType\":\"dimension\"},{\"dragId\":\"gw_9M-O\",\"fid\":\"YmFyX25hbWVfNg==\",\"name\":\"bar_name\",\"semanticType\":\"nominal\",\"analyticType\":\"dimension\"},{\"dragId\":\"gw_NmyF\",\"fid\":\"aW5ncmVkaWVudHNfOQ==\",\"name\":\"ingredients\",\"semanticType\":\"nominal\",\"analyticType\":\"dimension\"},{\"dragId\":\"gw_VAnS\",\"fid\":\"cmV2aWV3XzEw\",\"name\":\"review\",\"semanticType\":\"nominal\",\"analyticType\":\"dimension\"}],\"measures\":[{\"dragId\":\"gw_Kl4u\",\"fid\":\"aW5kZXhfMA==\",\"name\":\"index\",\"analyticType\":\"measure\",\"semanticType\":\"quantitative\",\"aggName\":\"sum\"},{\"dragId\":\"gw_uCjr\",\"fid\":\"aWRfMQ==\",\"name\":\"id\",\"analyticType\":\"measure\",\"semanticType\":\"quantitative\",\"aggName\":\"sum\"},{\"dragId\":\"gw_iDsj\",\"fid\":\"Y29jb2FfcGVyY2VudF83\",\"name\":\"cocoa_percent\",\"analyticType\":\"measure\",\"semanticType\":\"quantitative\",\"aggName\":\"sum\"},{\"dragId\":\"gw_KN2P\",\"fid\":\"bnVtX2luZ3JlZGllbnRzXzg=\",\"name\":\"num_ingredients\",\"analyticType\":\"measure\",\"semanticType\":\"ordinal\",\"aggName\":\"sum\"},{\"dragId\":\"gw_IeLR\",\"fid\":\"cmF0aW5nXzEx\",\"name\":\"rating\",\"analyticType\":\"measure\",\"semanticType\":\"ordinal\",\"aggName\":\"sum\"},{\"dragId\":\"gw_count_fid\",\"fid\":\"gw_count_fid\",\"name\":\"Row count\",\"analyticType\":\"measure\",\"semanticType\":\"quantitative\",\"aggName\":\"sum\",\"computed\":true,\"expression\":{\"op\":\"one\",\"params\":[],\"as\":\"gw_count_fid\"}}],\"rows\":[{\"dragId\":\"gw_twzo\",\"fid\":\"cmF0aW5nXzEx\",\"name\":\"rating\",\"analyticType\":\"measure\",\"semanticType\":\"ordinal\",\"aggName\":\"mean\"}],\"columns\":[{\"dragId\":\"gw_lKwK\",\"fid\":\"YmVhbl9vcmlnaW5fNQ==\",\"name\":\"bean_origin\",\"semanticType\":\"nominal\",\"analyticType\":\"dimension\",\"sort\":\"descending\"}],\"color\":[],\"opacity\":[],\"size\":[],\"shape\":[],\"radius\":[],\"theta\":[],\"details\":[],\"filters\":[],\"text\":[]},\"config\":{\"defaultAggregated\":true,\"geoms\":[\"auto\"],\"stack\":\"stack\",\"showActions\":false,\"interactiveScale\":false,\"sorted\":\"none\",\"zeroScale\":true,\"size\":{\"mode\":\"auto\",\"width\":320,\"height\":200},\"format\":{}}}]\"\"\"\n",
    "pyg.walk(df, spec=vis_spec, dark='light')\n"
   ]
  },
  {
   "cell_type": "markdown",
   "id": "74d9d911",
   "metadata": {},
   "source": [
    "2nd chart clearily shows that top 3 beans origins are in Tobago, Sao Tome & China"
   ]
  },
  {
   "cell_type": "code",
   "execution_count": 6,
   "id": "d65d5727",
   "metadata": {},
   "outputs": [
    {
     "data": {
      "text/html": [],
      "text/plain": [
       "<IPython.core.display.HTML object>"
      ]
     },
     "metadata": {},
     "output_type": "display_data"
    },
    {
     "data": {
      "application/vnd.jupyter.widget-view+json": {
       "model_id": "84cfbdde14974d11a1eac7891f5725c4",
       "version_major": 2,
       "version_minor": 0
      },
      "text/plain": [
       "Box(children=(HTML(value='<div id=\"ifr-pyg-3\" style=\"height: auto\">\\n    <head>\\n        <meta http-equiv=\"Con…"
      ]
     },
     "metadata": {},
     "output_type": "display_data"
    },
    {
     "data": {
      "text/html": [
       "<html>\n",
       "<style>\n",
       ".tabs{\n",
       "    position:relative;\n",
       "    height:660px;\n",
       "}\n",
       ".tab-pane{\n",
       "    display:inline-block;\n",
       "}\n",
       ".tabs input[type='radio']{\n",
       "    position:absolute;\n",
       "    clip:rect(0,0,0,0)\n",
       "}\n",
       ".tab-item{\n",
       "    display:block;\n",
       "    height:34px;\n",
       "    line-height:34px;\n",
       "    cursor:pointer;\n",
       "    padding:0 10px\n",
       "}\n",
       "\n",
       ".tabs input[type='radio']:checked+.tab-item{\n",
       "    background:#2563eb;\n",
       "    color:#fff\n",
       "}\n",
       "\n",
       ".tab-content{\n",
       "    display: none;\n",
       "    position:absolute;\n",
       "    left:0;\n",
       "    top:56px;\n",
       "    bottom:0;\n",
       "    right:0;\n",
       "}\n",
       "\n",
       ".tabs input[type='radio']:checked+.tab-item+.tab-content{\n",
       "    display: block;\n",
       "}\n",
       "</style>\n",
       "\n",
       "<body>\n",
       "    <div id=\"pygwalker-preview-3\">\n",
       "        <div class=\"tabs\">\n",
       "            \n",
       "        </div>\n",
       "    </div>\n",
       "</body>\n",
       "</html>"
      ],
      "text/plain": [
       "<IPython.core.display.HTML object>"
      ]
     },
     "metadata": {},
     "output_type": "display_data"
    },
    {
     "data": {
      "text/plain": [
       "<pygwalker.api.pygwalker.PygWalker at 0x2594ee14df0>"
      ]
     },
     "execution_count": 6,
     "metadata": {},
     "output_type": "execute_result"
    }
   ],
   "source": [
    "vis_spec = \"\"\"[{\"visId\":\"gw_4ukh\",\"name\":\"Chart 1\",\"encodings\":{\"dimensions\":[{\"dragId\":\"gw_9RLj\",\"fid\":\"bWFudWZhY3R1cmVyXzI=\",\"name\":\"manufacturer\",\"semanticType\":\"nominal\",\"analyticType\":\"dimension\"},{\"dragId\":\"gw_cd1y\",\"fid\":\"Y29tcGFueV9sb2NhdGlvbl8z\",\"name\":\"company_location\",\"semanticType\":\"nominal\",\"analyticType\":\"dimension\"},{\"dragId\":\"gw_lJZ3\",\"fid\":\"eWVhcl9yZXZpZXdlZF80\",\"name\":\"year_reviewed\",\"semanticType\":\"ordinal\",\"analyticType\":\"dimension\"},{\"dragId\":\"gw_P-WD\",\"fid\":\"YmVhbl9vcmlnaW5fNQ==\",\"name\":\"bean_origin\",\"semanticType\":\"nominal\",\"analyticType\":\"dimension\"},{\"dragId\":\"gw_keYn\",\"fid\":\"YmFyX25hbWVfNg==\",\"name\":\"bar_name\",\"semanticType\":\"nominal\",\"analyticType\":\"dimension\"},{\"dragId\":\"gw_IYDk\",\"fid\":\"aW5ncmVkaWVudHNfOQ==\",\"name\":\"ingredients\",\"semanticType\":\"nominal\",\"analyticType\":\"dimension\"},{\"dragId\":\"gw_2514\",\"fid\":\"cmV2aWV3XzEw\",\"name\":\"review\",\"semanticType\":\"nominal\",\"analyticType\":\"dimension\"}],\"measures\":[{\"dragId\":\"gw_ZTqJ\",\"fid\":\"aW5kZXhfMA==\",\"name\":\"index\",\"analyticType\":\"measure\",\"semanticType\":\"quantitative\",\"aggName\":\"sum\"},{\"dragId\":\"gw_N1XL\",\"fid\":\"aWRfMQ==\",\"name\":\"id\",\"analyticType\":\"measure\",\"semanticType\":\"quantitative\",\"aggName\":\"sum\"},{\"dragId\":\"gw_cxui\",\"fid\":\"Y29jb2FfcGVyY2VudF83\",\"name\":\"cocoa_percent\",\"analyticType\":\"measure\",\"semanticType\":\"quantitative\",\"aggName\":\"sum\"},{\"dragId\":\"gw_w5mS\",\"fid\":\"bnVtX2luZ3JlZGllbnRzXzg=\",\"name\":\"num_ingredients\",\"analyticType\":\"measure\",\"semanticType\":\"ordinal\",\"aggName\":\"sum\"},{\"dragId\":\"gw_bplu\",\"fid\":\"cmF0aW5nXzEx\",\"name\":\"rating\",\"analyticType\":\"measure\",\"semanticType\":\"ordinal\",\"aggName\":\"sum\"},{\"dragId\":\"gw_count_fid\",\"fid\":\"gw_count_fid\",\"name\":\"Row count\",\"analyticType\":\"measure\",\"semanticType\":\"quantitative\",\"aggName\":\"sum\",\"computed\":true,\"expression\":{\"op\":\"one\",\"params\":[],\"as\":\"gw_count_fid\"}}],\"rows\":[{\"dragId\":\"gw_rlJ4\",\"fid\":\"cmF0aW5nXzEx\",\"name\":\"rating\",\"analyticType\":\"measure\",\"semanticType\":\"ordinal\",\"aggName\":\"sum\"}],\"columns\":[{\"dragId\":\"gw_jRz0\",\"fid\":\"bWFudWZhY3R1cmVyXzI=\",\"name\":\"manufacturer\",\"semanticType\":\"nominal\",\"analyticType\":\"dimension\",\"sort\":\"descending\"}],\"color\":[],\"opacity\":[],\"size\":[],\"shape\":[],\"radius\":[],\"theta\":[],\"details\":[],\"filters\":[],\"text\":[]},\"config\":{\"defaultAggregated\":true,\"geoms\":[\"auto\"],\"stack\":\"stack\",\"showActions\":false,\"interactiveScale\":false,\"sorted\":\"none\",\"zeroScale\":true,\"size\":{\"mode\":\"auto\",\"width\":320,\"height\":200},\"format\":{}}},{\"visId\":\"gw_57Nd\",\"name\":\"Chart 2\",\"encodings\":{\"dimensions\":[{\"dragId\":\"gw_nt_8\",\"fid\":\"bWFudWZhY3R1cmVyXzI=\",\"name\":\"manufacturer\",\"semanticType\":\"nominal\",\"analyticType\":\"dimension\"},{\"dragId\":\"gw_Kna-\",\"fid\":\"Y29tcGFueV9sb2NhdGlvbl8z\",\"name\":\"company_location\",\"semanticType\":\"nominal\",\"analyticType\":\"dimension\"},{\"dragId\":\"gw_22Pf\",\"fid\":\"eWVhcl9yZXZpZXdlZF80\",\"name\":\"year_reviewed\",\"semanticType\":\"ordinal\",\"analyticType\":\"dimension\"},{\"dragId\":\"gw_0DvG\",\"fid\":\"YmVhbl9vcmlnaW5fNQ==\",\"name\":\"bean_origin\",\"semanticType\":\"nominal\",\"analyticType\":\"dimension\"},{\"dragId\":\"gw_9M-O\",\"fid\":\"YmFyX25hbWVfNg==\",\"name\":\"bar_name\",\"semanticType\":\"nominal\",\"analyticType\":\"dimension\"},{\"dragId\":\"gw_NmyF\",\"fid\":\"aW5ncmVkaWVudHNfOQ==\",\"name\":\"ingredients\",\"semanticType\":\"nominal\",\"analyticType\":\"dimension\"},{\"dragId\":\"gw_VAnS\",\"fid\":\"cmV2aWV3XzEw\",\"name\":\"review\",\"semanticType\":\"nominal\",\"analyticType\":\"dimension\"}],\"measures\":[{\"dragId\":\"gw_Kl4u\",\"fid\":\"aW5kZXhfMA==\",\"name\":\"index\",\"analyticType\":\"measure\",\"semanticType\":\"quantitative\",\"aggName\":\"sum\"},{\"dragId\":\"gw_uCjr\",\"fid\":\"aWRfMQ==\",\"name\":\"id\",\"analyticType\":\"measure\",\"semanticType\":\"quantitative\",\"aggName\":\"sum\"},{\"dragId\":\"gw_iDsj\",\"fid\":\"Y29jb2FfcGVyY2VudF83\",\"name\":\"cocoa_percent\",\"analyticType\":\"measure\",\"semanticType\":\"quantitative\",\"aggName\":\"sum\"},{\"dragId\":\"gw_KN2P\",\"fid\":\"bnVtX2luZ3JlZGllbnRzXzg=\",\"name\":\"num_ingredients\",\"analyticType\":\"measure\",\"semanticType\":\"ordinal\",\"aggName\":\"sum\"},{\"dragId\":\"gw_IeLR\",\"fid\":\"cmF0aW5nXzEx\",\"name\":\"rating\",\"analyticType\":\"measure\",\"semanticType\":\"ordinal\",\"aggName\":\"sum\"},{\"dragId\":\"gw_count_fid\",\"fid\":\"gw_count_fid\",\"name\":\"Row count\",\"analyticType\":\"measure\",\"semanticType\":\"quantitative\",\"aggName\":\"sum\",\"computed\":true,\"expression\":{\"op\":\"one\",\"params\":[],\"as\":\"gw_count_fid\"}}],\"rows\":[{\"dragId\":\"gw_twzo\",\"fid\":\"cmF0aW5nXzEx\",\"name\":\"rating\",\"analyticType\":\"measure\",\"semanticType\":\"ordinal\",\"aggName\":\"mean\"}],\"columns\":[{\"dragId\":\"gw_lKwK\",\"fid\":\"YmVhbl9vcmlnaW5fNQ==\",\"name\":\"bean_origin\",\"semanticType\":\"nominal\",\"analyticType\":\"dimension\",\"sort\":\"descending\"}],\"color\":[],\"opacity\":[],\"size\":[],\"shape\":[],\"radius\":[],\"theta\":[],\"details\":[],\"filters\":[],\"text\":[]},\"config\":{\"defaultAggregated\":true,\"geoms\":[\"auto\"],\"stack\":\"stack\",\"showActions\":false,\"interactiveScale\":false,\"sorted\":\"none\",\"zeroScale\":true,\"size\":{\"mode\":\"auto\",\"width\":320,\"height\":200},\"format\":{}}},{\"visId\":\"gw_DMDC\",\"name\":\"Chart 3\",\"encodings\":{\"dimensions\":[{\"dragId\":\"gw_YpLH\",\"fid\":\"bWFudWZhY3R1cmVyXzI=\",\"name\":\"manufacturer\",\"semanticType\":\"nominal\",\"analyticType\":\"dimension\"},{\"dragId\":\"gw_Pe6Y\",\"fid\":\"Y29tcGFueV9sb2NhdGlvbl8z\",\"name\":\"company_location\",\"semanticType\":\"nominal\",\"analyticType\":\"dimension\"},{\"dragId\":\"gw_L--i\",\"fid\":\"eWVhcl9yZXZpZXdlZF80\",\"name\":\"year_reviewed\",\"semanticType\":\"ordinal\",\"analyticType\":\"dimension\"},{\"dragId\":\"gw_676F\",\"fid\":\"YmVhbl9vcmlnaW5fNQ==\",\"name\":\"bean_origin\",\"semanticType\":\"nominal\",\"analyticType\":\"dimension\"},{\"dragId\":\"gw_YdOo\",\"fid\":\"YmFyX25hbWVfNg==\",\"name\":\"bar_name\",\"semanticType\":\"nominal\",\"analyticType\":\"dimension\"},{\"dragId\":\"gw_HRc8\",\"fid\":\"aW5ncmVkaWVudHNfOQ==\",\"name\":\"ingredients\",\"semanticType\":\"nominal\",\"analyticType\":\"dimension\"},{\"dragId\":\"gw_LNfb\",\"fid\":\"cmV2aWV3XzEw\",\"name\":\"review\",\"semanticType\":\"nominal\",\"analyticType\":\"dimension\"}],\"measures\":[{\"dragId\":\"gw_xLZl\",\"fid\":\"aW5kZXhfMA==\",\"name\":\"index\",\"analyticType\":\"measure\",\"semanticType\":\"quantitative\",\"aggName\":\"sum\"},{\"dragId\":\"gw_OZ3S\",\"fid\":\"aWRfMQ==\",\"name\":\"id\",\"analyticType\":\"measure\",\"semanticType\":\"quantitative\",\"aggName\":\"sum\"},{\"dragId\":\"gw_3Tht\",\"fid\":\"Y29jb2FfcGVyY2VudF83\",\"name\":\"cocoa_percent\",\"analyticType\":\"measure\",\"semanticType\":\"quantitative\",\"aggName\":\"sum\"},{\"dragId\":\"gw_lphW\",\"fid\":\"bnVtX2luZ3JlZGllbnRzXzg=\",\"name\":\"num_ingredients\",\"analyticType\":\"measure\",\"semanticType\":\"ordinal\",\"aggName\":\"sum\"},{\"dragId\":\"gw_LwO1\",\"fid\":\"cmF0aW5nXzEx\",\"name\":\"rating\",\"analyticType\":\"measure\",\"semanticType\":\"ordinal\",\"aggName\":\"sum\"},{\"dragId\":\"gw_count_fid\",\"fid\":\"gw_count_fid\",\"name\":\"Row count\",\"analyticType\":\"measure\",\"semanticType\":\"quantitative\",\"aggName\":\"sum\",\"computed\":true,\"expression\":{\"op\":\"one\",\"params\":[],\"as\":\"gw_count_fid\"}}],\"rows\":[{\"dragId\":\"gw_AqbH\",\"fid\":\"Y29jb2FfcGVyY2VudF83\",\"name\":\"cocoa_percent\",\"analyticType\":\"measure\",\"semanticType\":\"quantitative\",\"aggName\":\"mean\"}],\"columns\":[{\"dragId\":\"gw_hh2O\",\"fid\":\"bWFudWZhY3R1cmVyXzI=\",\"name\":\"manufacturer\",\"semanticType\":\"nominal\",\"analyticType\":\"dimension\",\"sort\":\"descending\"}],\"color\":[],\"opacity\":[],\"size\":[],\"shape\":[],\"radius\":[],\"theta\":[],\"details\":[],\"filters\":[],\"text\":[]},\"config\":{\"defaultAggregated\":true,\"geoms\":[\"auto\"],\"stack\":\"stack\",\"showActions\":false,\"interactiveScale\":false,\"sorted\":\"none\",\"zeroScale\":true,\"size\":{\"mode\":\"auto\",\"width\":320,\"height\":200},\"format\":{}}}]\"\"\"\n",
    "pyg.walk(df, spec=vis_spec, dark='light')\n"
   ]
  },
  {
   "cell_type": "markdown",
   "id": "0948500e",
   "metadata": {},
   "source": [
    "3rd chart shows top cocoa percent in manufacturers descendingly"
   ]
  }
 ],
 "metadata": {
  "kernelspec": {
   "display_name": "Python 3 (ipykernel)",
   "language": "python",
   "name": "python3"
  },
  "language_info": {
   "codemirror_mode": {
    "name": "ipython",
    "version": 3
   },
   "file_extension": ".py",
   "mimetype": "text/x-python",
   "name": "python",
   "nbconvert_exporter": "python",
   "pygments_lexer": "ipython3",
   "version": "3.9.7"
  }
 },
 "nbformat": 4,
 "nbformat_minor": 5
}
